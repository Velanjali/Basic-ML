{
  "nbformat": 4,
  "nbformat_minor": 0,
  "metadata": {
    "colab": {
      "name": "Nykaa Products Review",
      "provenance": [],
      "collapsed_sections": [],
      "authorship_tag": "ABX9TyP5Ro1Ept66SPWYRP3+Vpm2",
      "include_colab_link": true
    },
    "kernelspec": {
      "name": "python3",
      "display_name": "Python 3"
    },
    "language_info": {
      "name": "python"
    }
  },
  "cells": [
    {
      "cell_type": "markdown",
      "metadata": {
        "id": "view-in-github",
        "colab_type": "text"
      },
      "source": [
        "<a href=\"https://colab.research.google.com/github/Velanjali/Basic-ML/blob/main/Nykaa_Products_Review.ipynb\" target=\"_parent\"><img src=\"https://colab.research.google.com/assets/colab-badge.svg\" alt=\"Open In Colab\"/></a>"
      ]
    },
    {
      "cell_type": "code",
      "metadata": {
        "colab": {
          "base_uri": "https://localhost:8080/"
        },
        "id": "rEf-RU2e4MDI",
        "outputId": "c72e93d3-09a0-43d5-fa86-33ae5b1616df"
      },
      "source": [
        "import pandas as pd\n",
        "import numpy as np\n",
        "import seaborn as sns\n",
        "import matplotlib.pyplot as plt\n",
        "%matplotlib inline\n",
        "sns.set(color_codes=True)\n",
        "print(\"Setup Complete\")"
      ],
      "execution_count": 2,
      "outputs": [
        {
          "output_type": "stream",
          "text": [
            "Setup Complete\n"
          ],
          "name": "stdout"
        }
      ]
    },
    {
      "cell_type": "code",
      "metadata": {
        "colab": {
          "base_uri": "https://localhost:8080/",
          "height": 626
        },
        "id": "uxW8Yt4X5fce",
        "outputId": "667ad45c-ee57-4b38-cc09-6ee8ecb0655f"
      },
      "source": [
        "prd=pd.read_csv(\"Nykaa_Product_Review[1].csv\")\n",
        "prd.head(5)\n"
      ],
      "execution_count": 67,
      "outputs": [
        {
          "output_type": "execute_result",
          "data": {
            "text/html": [
              "<div>\n",
              "<style scoped>\n",
              "    .dataframe tbody tr th:only-of-type {\n",
              "        vertical-align: middle;\n",
              "    }\n",
              "\n",
              "    .dataframe tbody tr th {\n",
              "        vertical-align: top;\n",
              "    }\n",
              "\n",
              "    .dataframe thead th {\n",
              "        text-align: right;\n",
              "    }\n",
              "</style>\n",
              "<table border=\"1\" class=\"dataframe\">\n",
              "  <thead>\n",
              "    <tr style=\"text-align: right;\">\n",
              "      <th></th>\n",
              "      <th>Product Id</th>\n",
              "      <th>Product Brand Code</th>\n",
              "      <th>Retailer</th>\n",
              "      <th>Product Category</th>\n",
              "      <th>Product Brand</th>\n",
              "      <th>Product Name</th>\n",
              "      <th>Product Price</th>\n",
              "      <th>Product Url</th>\n",
              "      <th>Market</th>\n",
              "      <th>Product Description</th>\n",
              "      <th>Product Currency</th>\n",
              "      <th>Product Image Url</th>\n",
              "      <th>Product Tags</th>\n",
              "      <th>Product Contents</th>\n",
              "      <th>Product Rating</th>\n",
              "      <th>Product Reviews Count</th>\n",
              "      <th>Expected Category Count</th>\n",
              "      <th>Expected Brand Count</th>\n",
              "    </tr>\n",
              "  </thead>\n",
              "  <tbody>\n",
              "    <tr>\n",
              "      <th>0</th>\n",
              "      <td>b77f3da33be6e65f6183da6ada8c07ca</td>\n",
              "      <td>BZ1000</td>\n",
              "      <td>nykaa.com</td>\n",
              "      <td>Makeup &gt; Face &gt; Contour</td>\n",
              "      <td>ETUDE HOUSE</td>\n",
              "      <td>ETUDE HOUSE Face Color Shading - 02</td>\n",
              "      <td>600</td>\n",
              "      <td>https://www.nykaa.com/c/p/760922?skuId=760920</td>\n",
              "      <td>IN</td>\n",
              "      <td>Etude House Face Color Shading provides a shad...</td>\n",
              "      <td>INR</td>\n",
              "      <td>https://images-static.nykaa.com/media/catalog/...</td>\n",
              "      <td>ETUDE HOUSE Face Color Shading - 02, Makeup, F...</td>\n",
              "      <td>NaN</td>\n",
              "      <td>4.6</td>\n",
              "      <td>4.0</td>\n",
              "      <td>153</td>\n",
              "      <td>82</td>\n",
              "    </tr>\n",
              "    <tr>\n",
              "      <th>1</th>\n",
              "      <td>f54658c5d511195b6621a640fb743b1b</td>\n",
              "      <td>BH5931</td>\n",
              "      <td>nykaa.com</td>\n",
              "      <td>Brand &gt; L'Oreal Paris</td>\n",
              "      <td>L'Oreal Paris</td>\n",
              "      <td>L'Oreal Paris Glow Mon Amour Highlighting Drop...</td>\n",
              "      <td>454</td>\n",
              "      <td>https://www.nykaa.com/c/p/565974?skuId=565973</td>\n",
              "      <td>IN</td>\n",
              "      <td>It's time to skip the snooze button and get up...</td>\n",
              "      <td>INR</td>\n",
              "      <td>https://images-static.nykaa.com/media/catalog/...</td>\n",
              "      <td>L'Oreal Paris Glow Mon Amour Highlighting Drop...</td>\n",
              "      <td>G927637, Cyclopentasiloxane, Dimethicone, Isod...</td>\n",
              "      <td>4.3</td>\n",
              "      <td>147.0</td>\n",
              "      <td>431</td>\n",
              "      <td>431</td>\n",
              "    </tr>\n",
              "    <tr>\n",
              "      <th>2</th>\n",
              "      <td>cdf6b3387f8976c8e38ad150173dbb6d</td>\n",
              "      <td>BH7276</td>\n",
              "      <td>nykaa.com</td>\n",
              "      <td>Makeup &gt; Face &gt; Foundation</td>\n",
              "      <td>The Body Shop</td>\n",
              "      <td>The Body Shop All-In-One Face Base - 045</td>\n",
              "      <td>1395</td>\n",
              "      <td>https://www.nykaa.com/c/p/31142?skuId=30050</td>\n",
              "      <td>IN</td>\n",
              "      <td>Note: The Body Shop products will be dispatche...</td>\n",
              "      <td>INR</td>\n",
              "      <td>https://images-static.nykaa.com/media/catalog/...</td>\n",
              "      <td>The Body Shop All-In-One Face Base - 045 , Mak...</td>\n",
              "      <td>NaN</td>\n",
              "      <td>4.4</td>\n",
              "      <td>58.0</td>\n",
              "      <td>0</td>\n",
              "      <td>0</td>\n",
              "    </tr>\n",
              "    <tr>\n",
              "      <th>3</th>\n",
              "      <td>424755c11c78b2b24ff13c675baf5d19</td>\n",
              "      <td>BZ1000</td>\n",
              "      <td>nykaa.com</td>\n",
              "      <td>Health &amp; Wellness &gt; Good for You &gt; Super Food</td>\n",
              "      <td>True Elements</td>\n",
              "      <td>True Elements Sunflower Raw Seeds</td>\n",
              "      <td>175</td>\n",
              "      <td>https://www.nykaa.com/c/p/370883?skuId=370881</td>\n",
              "      <td>IN</td>\n",
              "      <td>Sunflower has always been admired for its beau...</td>\n",
              "      <td>INR</td>\n",
              "      <td>https://images-static.nykaa.com/media/catalog/...</td>\n",
              "      <td>True Elements Sunflower Raw Seeds, Wellness, S...</td>\n",
              "      <td>Raw Sunflower Seeds</td>\n",
              "      <td>5</td>\n",
              "      <td>0.0</td>\n",
              "      <td>389</td>\n",
              "      <td>149</td>\n",
              "    </tr>\n",
              "    <tr>\n",
              "      <th>4</th>\n",
              "      <td>f7f76573099db0058ef5264c35d9d02e</td>\n",
              "      <td>BZ1000</td>\n",
              "      <td>nykaa.com</td>\n",
              "      <td>Makeup &gt; Lips &gt; Lip Stain</td>\n",
              "      <td>Nykaa Cosmetics</td>\n",
              "      <td>Nykaa Wonderpuff Cushion Liquid Lipstick - Wer...</td>\n",
              "      <td>539</td>\n",
              "      <td>https://www.nykaa.com/c/p/555315?skuId=555310</td>\n",
              "      <td>IN</td>\n",
              "      <td>It's no secret that a good lippie is a real mo...</td>\n",
              "      <td>INR</td>\n",
              "      <td>https://images-static.nykaa.com/media/catalog/...</td>\n",
              "      <td>NykaaÂ Wonderpuff!Â LipÂ &amp;Â CheekÂ Cushion Lip...</td>\n",
              "      <td>NaN</td>\n",
              "      <td>4</td>\n",
              "      <td>934.0</td>\n",
              "      <td>80</td>\n",
              "      <td>436</td>\n",
              "    </tr>\n",
              "  </tbody>\n",
              "</table>\n",
              "</div>"
            ],
            "text/plain": [
              "                         Product Id  ... Expected Brand Count\n",
              "0  b77f3da33be6e65f6183da6ada8c07ca  ...                   82\n",
              "1  f54658c5d511195b6621a640fb743b1b  ...                  431\n",
              "2  cdf6b3387f8976c8e38ad150173dbb6d  ...                    0\n",
              "3  424755c11c78b2b24ff13c675baf5d19  ...                  149\n",
              "4  f7f76573099db0058ef5264c35d9d02e  ...                  436\n",
              "\n",
              "[5 rows x 18 columns]"
            ]
          },
          "metadata": {},
          "execution_count": 67
        }
      ]
    },
    {
      "cell_type": "code",
      "metadata": {
        "colab": {
          "base_uri": "https://localhost:8080/",
          "height": 315
        },
        "id": "yqHa0E-i6ZdU",
        "outputId": "8cbeb879-83a2-46b0-9428-9394b83c8763"
      },
      "source": [
        "prd.tail(2)"
      ],
      "execution_count": 8,
      "outputs": [
        {
          "output_type": "execute_result",
          "data": {
            "text/html": [
              "<div>\n",
              "<style scoped>\n",
              "    .dataframe tbody tr th:only-of-type {\n",
              "        vertical-align: middle;\n",
              "    }\n",
              "\n",
              "    .dataframe tbody tr th {\n",
              "        vertical-align: top;\n",
              "    }\n",
              "\n",
              "    .dataframe thead th {\n",
              "        text-align: right;\n",
              "    }\n",
              "</style>\n",
              "<table border=\"1\" class=\"dataframe\">\n",
              "  <thead>\n",
              "    <tr style=\"text-align: right;\">\n",
              "      <th></th>\n",
              "      <th>Product Id</th>\n",
              "      <th>Product Brand Code</th>\n",
              "      <th>Retailer</th>\n",
              "      <th>Product Category</th>\n",
              "      <th>Product Brand</th>\n",
              "      <th>Product Name</th>\n",
              "      <th>Product Price</th>\n",
              "      <th>Product Url</th>\n",
              "      <th>Market</th>\n",
              "      <th>Product Description</th>\n",
              "      <th>Product Currency</th>\n",
              "      <th>Product Image Url</th>\n",
              "      <th>Product Tags</th>\n",
              "      <th>Product Contents</th>\n",
              "      <th>Product Rating</th>\n",
              "      <th>Product Reviews Count</th>\n",
              "      <th>Expected Category Count</th>\n",
              "      <th>Expected Brand Count</th>\n",
              "    </tr>\n",
              "  </thead>\n",
              "  <tbody>\n",
              "    <tr>\n",
              "      <th>623</th>\n",
              "      <td>43a298f6fb694f35826da3b2fe726168</td>\n",
              "      <td>BZ1000</td>\n",
              "      <td>nykaa.com</td>\n",
              "      <td>Makeup &gt; Makeup Kits &gt; Eye Palettes</td>\n",
              "      <td>L.A. Girl</td>\n",
              "      <td>L.A. Girl Eye Lux Mesmerizing Eyeshadow - Trop...</td>\n",
              "      <td>675</td>\n",
              "      <td>https://www.nykaa.com/c/p/158753?skuId=158760</td>\n",
              "      <td>IN</td>\n",
              "      <td>L.A Girl introduces a luxurious, long wearing ...</td>\n",
              "      <td>INR</td>\n",
              "      <td>https://images-static.nykaa.com/media/catalog/...</td>\n",
              "      <td>L.A. Girl Eye Lux Mesmerizing Eyeshadow - Trop...</td>\n",
              "      <td>NaN</td>\n",
              "      <td>4.3</td>\n",
              "      <td>110.0</td>\n",
              "      <td>0</td>\n",
              "      <td>0</td>\n",
              "    </tr>\n",
              "    <tr>\n",
              "      <th>624</th>\n",
              "      <td>3a5247720e93fd276bd6a797adf7629b</td>\n",
              "      <td>BZ1000</td>\n",
              "      <td>nykaa.com</td>\n",
              "      <td>Makeup &gt; Makeup Kits &gt; Customize Your Palette</td>\n",
              "      <td>M.A.C</td>\n",
              "      <td>M.A.C Veluxe Pearl Eye Shadow (Pro Palette Ref...</td>\n",
              "      <td>1100</td>\n",
              "      <td>https://www.nykaa.com/c/p/90778?skuId=90762</td>\n",
              "      <td>IN</td>\n",
              "      <td>Highly pigmented powder. Applies evenly, blend...</td>\n",
              "      <td>INR</td>\n",
              "      <td>https://images-static.nykaa.com/media/catalog/...</td>\n",
              "      <td>M.A.C Veluxe Pearl Eye Shadow (Pro Palette Ref...</td>\n",
              "      <td>NaN</td>\n",
              "      <td>4.9</td>\n",
              "      <td>12.0</td>\n",
              "      <td>0</td>\n",
              "      <td>0</td>\n",
              "    </tr>\n",
              "  </tbody>\n",
              "</table>\n",
              "</div>"
            ],
            "text/plain": [
              "                           Product Id  ... Expected Brand Count\n",
              "623  43a298f6fb694f35826da3b2fe726168  ...                    0\n",
              "624  3a5247720e93fd276bd6a797adf7629b  ...                    0\n",
              "\n",
              "[2 rows x 18 columns]"
            ]
          },
          "metadata": {},
          "execution_count": 8
        }
      ]
    },
    {
      "cell_type": "code",
      "metadata": {
        "colab": {
          "base_uri": "https://localhost:8080/"
        },
        "id": "vg4AyRet8Wq5",
        "outputId": "4ba93b66-ef3d-4c59-f952-f0b35f43902c"
      },
      "source": [
        "prd.shape"
      ],
      "execution_count": 24,
      "outputs": [
        {
          "output_type": "execute_result",
          "data": {
            "text/plain": [
              "(625, 14)"
            ]
          },
          "metadata": {},
          "execution_count": 24
        }
      ]
    },
    {
      "cell_type": "code",
      "metadata": {
        "colab": {
          "base_uri": "https://localhost:8080/",
          "height": 1000
        },
        "id": "gvdj4gsfACjy",
        "outputId": "8222732b-3ff3-4335-aabb-cacda461f5f0"
      },
      "source": [
        "prd.drop_duplicates()\n"
      ],
      "execution_count": 38,
      "outputs": [
        {
          "output_type": "execute_result",
          "data": {
            "text/html": [
              "<div>\n",
              "<style scoped>\n",
              "    .dataframe tbody tr th:only-of-type {\n",
              "        vertical-align: middle;\n",
              "    }\n",
              "\n",
              "    .dataframe tbody tr th {\n",
              "        vertical-align: top;\n",
              "    }\n",
              "\n",
              "    .dataframe thead th {\n",
              "        text-align: right;\n",
              "    }\n",
              "</style>\n",
              "<table border=\"1\" class=\"dataframe\">\n",
              "  <thead>\n",
              "    <tr style=\"text-align: right;\">\n",
              "      <th></th>\n",
              "      <th>Retailer</th>\n",
              "      <th>Product Url</th>\n",
              "      <th>Market</th>\n",
              "      <th>Product Description</th>\n",
              "      <th>Product Image Url</th>\n",
              "      <th>Product Tags</th>\n",
              "      <th>Product Contents</th>\n",
              "      <th>Product Reviews Count</th>\n",
              "      <th>Expected Category Count</th>\n",
              "      <th>Expected Brand Count</th>\n",
              "    </tr>\n",
              "  </thead>\n",
              "  <tbody>\n",
              "    <tr>\n",
              "      <th>0</th>\n",
              "      <td>nykaa.com</td>\n",
              "      <td>https://www.nykaa.com/c/p/760922?skuId=760920</td>\n",
              "      <td>IN</td>\n",
              "      <td>Etude House Face Color Shading provides a shad...</td>\n",
              "      <td>https://images-static.nykaa.com/media/catalog/...</td>\n",
              "      <td>ETUDE HOUSE Face Color Shading - 02, Makeup, F...</td>\n",
              "      <td>NaN</td>\n",
              "      <td>4.0</td>\n",
              "      <td>153</td>\n",
              "      <td>82</td>\n",
              "    </tr>\n",
              "    <tr>\n",
              "      <th>1</th>\n",
              "      <td>nykaa.com</td>\n",
              "      <td>https://www.nykaa.com/c/p/565974?skuId=565973</td>\n",
              "      <td>IN</td>\n",
              "      <td>It's time to skip the snooze button and get up...</td>\n",
              "      <td>https://images-static.nykaa.com/media/catalog/...</td>\n",
              "      <td>L'Oreal Paris Glow Mon Amour Highlighting Drop...</td>\n",
              "      <td>G927637, Cyclopentasiloxane, Dimethicone, Isod...</td>\n",
              "      <td>147.0</td>\n",
              "      <td>431</td>\n",
              "      <td>431</td>\n",
              "    </tr>\n",
              "    <tr>\n",
              "      <th>2</th>\n",
              "      <td>nykaa.com</td>\n",
              "      <td>https://www.nykaa.com/c/p/31142?skuId=30050</td>\n",
              "      <td>IN</td>\n",
              "      <td>Note: The Body Shop products will be dispatche...</td>\n",
              "      <td>https://images-static.nykaa.com/media/catalog/...</td>\n",
              "      <td>The Body Shop All-In-One Face Base - 045 , Mak...</td>\n",
              "      <td>NaN</td>\n",
              "      <td>58.0</td>\n",
              "      <td>0</td>\n",
              "      <td>0</td>\n",
              "    </tr>\n",
              "    <tr>\n",
              "      <th>3</th>\n",
              "      <td>nykaa.com</td>\n",
              "      <td>https://www.nykaa.com/c/p/370883?skuId=370881</td>\n",
              "      <td>IN</td>\n",
              "      <td>Sunflower has always been admired for its beau...</td>\n",
              "      <td>https://images-static.nykaa.com/media/catalog/...</td>\n",
              "      <td>True Elements Sunflower Raw Seeds, Wellness, S...</td>\n",
              "      <td>Raw Sunflower Seeds</td>\n",
              "      <td>0.0</td>\n",
              "      <td>389</td>\n",
              "      <td>149</td>\n",
              "    </tr>\n",
              "    <tr>\n",
              "      <th>4</th>\n",
              "      <td>nykaa.com</td>\n",
              "      <td>https://www.nykaa.com/c/p/555315?skuId=555310</td>\n",
              "      <td>IN</td>\n",
              "      <td>It's no secret that a good lippie is a real mo...</td>\n",
              "      <td>https://images-static.nykaa.com/media/catalog/...</td>\n",
              "      <td>NykaaÂ Wonderpuff!Â LipÂ &amp;Â CheekÂ Cushion Lip...</td>\n",
              "      <td>NaN</td>\n",
              "      <td>934.0</td>\n",
              "      <td>80</td>\n",
              "      <td>436</td>\n",
              "    </tr>\n",
              "    <tr>\n",
              "      <th>...</th>\n",
              "      <td>...</td>\n",
              "      <td>...</td>\n",
              "      <td>...</td>\n",
              "      <td>...</td>\n",
              "      <td>...</td>\n",
              "      <td>...</td>\n",
              "      <td>...</td>\n",
              "      <td>...</td>\n",
              "      <td>...</td>\n",
              "      <td>...</td>\n",
              "    </tr>\n",
              "    <tr>\n",
              "      <th>620</th>\n",
              "      <td>nykaa.com</td>\n",
              "      <td>https://www.nykaa.com/c/p/188541?skuId=188524</td>\n",
              "      <td>IN</td>\n",
              "      <td>Orly Breathable Treatment + Colour Nail Lacque...</td>\n",
              "      <td>https://images-static.nykaa.com/media/catalog/...</td>\n",
              "      <td>Orly Breathable Treatment + Color Nail Lacquer...</td>\n",
              "      <td>NaN</td>\n",
              "      <td>2.0</td>\n",
              "      <td>0</td>\n",
              "      <td>0</td>\n",
              "    </tr>\n",
              "    <tr>\n",
              "      <th>621</th>\n",
              "      <td>nykaa.com</td>\n",
              "      <td>https://www.nykaa.com/c/p/505638?skuId=505635</td>\n",
              "      <td>IN</td>\n",
              "      <td>Have you been waking up with raccoon eyes due ...</td>\n",
              "      <td>https://images-static.nykaa.com/media/catalog/...</td>\n",
              "      <td>BOLLYGLOW Concealer + Corrector Masala - Cocoa...</td>\n",
              "      <td>NaN</td>\n",
              "      <td>2.0</td>\n",
              "      <td>155</td>\n",
              "      <td>27</td>\n",
              "    </tr>\n",
              "    <tr>\n",
              "      <th>622</th>\n",
              "      <td>nykaa.com</td>\n",
              "      <td>https://www.nykaa.com/c/p/315757?skuId=315755</td>\n",
              "      <td>IN</td>\n",
              "      <td>AS-IT-IS Nutrition Pure Creatine Monohydrate i...</td>\n",
              "      <td>https://images-static.nykaa.com/media/catalog/...</td>\n",
              "      <td>As-It-Is Nutrition Pure Creatine Monohydrate, ...</td>\n",
              "      <td>Creatine</td>\n",
              "      <td>NaN</td>\n",
              "      <td>0</td>\n",
              "      <td>0</td>\n",
              "    </tr>\n",
              "    <tr>\n",
              "      <th>623</th>\n",
              "      <td>nykaa.com</td>\n",
              "      <td>https://www.nykaa.com/c/p/158753?skuId=158760</td>\n",
              "      <td>IN</td>\n",
              "      <td>L.A Girl introduces a luxurious, long wearing ...</td>\n",
              "      <td>https://images-static.nykaa.com/media/catalog/...</td>\n",
              "      <td>L.A. Girl Eye Lux Mesmerizing Eyeshadow - Trop...</td>\n",
              "      <td>NaN</td>\n",
              "      <td>110.0</td>\n",
              "      <td>0</td>\n",
              "      <td>0</td>\n",
              "    </tr>\n",
              "    <tr>\n",
              "      <th>624</th>\n",
              "      <td>nykaa.com</td>\n",
              "      <td>https://www.nykaa.com/c/p/90778?skuId=90762</td>\n",
              "      <td>IN</td>\n",
              "      <td>Highly pigmented powder. Applies evenly, blend...</td>\n",
              "      <td>https://images-static.nykaa.com/media/catalog/...</td>\n",
              "      <td>M.A.C Veluxe Pearl Eye Shadow (Pro Palette Ref...</td>\n",
              "      <td>NaN</td>\n",
              "      <td>12.0</td>\n",
              "      <td>0</td>\n",
              "      <td>0</td>\n",
              "    </tr>\n",
              "  </tbody>\n",
              "</table>\n",
              "<p>622 rows × 10 columns</p>\n",
              "</div>"
            ],
            "text/plain": [
              "      Retailer  ... Expected Brand Count\n",
              "0    nykaa.com  ...                   82\n",
              "1    nykaa.com  ...                  431\n",
              "2    nykaa.com  ...                    0\n",
              "3    nykaa.com  ...                  149\n",
              "4    nykaa.com  ...                  436\n",
              "..         ...  ...                  ...\n",
              "620  nykaa.com  ...                    0\n",
              "621  nykaa.com  ...                   27\n",
              "622  nykaa.com  ...                    0\n",
              "623  nykaa.com  ...                    0\n",
              "624  nykaa.com  ...                    0\n",
              "\n",
              "[622 rows x 10 columns]"
            ]
          },
          "metadata": {},
          "execution_count": 38
        }
      ]
    },
    {
      "cell_type": "code",
      "metadata": {
        "colab": {
          "base_uri": "https://localhost:8080/"
        },
        "id": "NIRPoepB-BPI",
        "outputId": "cd6e2da3-dea6-451b-d2d0-4d70d9c53c21"
      },
      "source": [
        "prd.count #used to count."
      ],
      "execution_count": 34,
      "outputs": [
        {
          "output_type": "execute_result",
          "data": {
            "text/plain": [
              "<bound method DataFrame.count of       Retailer  ... Expected Brand Count\n",
              "0    nykaa.com  ...                   82\n",
              "1    nykaa.com  ...                  431\n",
              "2    nykaa.com  ...                    0\n",
              "3    nykaa.com  ...                  149\n",
              "4    nykaa.com  ...                  436\n",
              "..         ...  ...                  ...\n",
              "620  nykaa.com  ...                    0\n",
              "621  nykaa.com  ...                   27\n",
              "622  nykaa.com  ...                    0\n",
              "623  nykaa.com  ...                    0\n",
              "624  nykaa.com  ...                    0\n",
              "\n",
              "[622 rows x 10 columns]>"
            ]
          },
          "metadata": {},
          "execution_count": 34
        }
      ]
    },
    {
      "cell_type": "code",
      "metadata": {
        "colab": {
          "base_uri": "https://localhost:8080/"
        },
        "id": "jidxct016k2G",
        "outputId": "e1e7f6f0-1960-4a6b-dae6-cb0f363e0129"
      },
      "source": [
        "prd.dtypes"
      ],
      "execution_count": 9,
      "outputs": [
        {
          "output_type": "execute_result",
          "data": {
            "text/plain": [
              "Product Id                  object\n",
              "Product Brand Code          object\n",
              "Retailer                    object\n",
              "Product Category            object\n",
              "Product Brand               object\n",
              "Product Name                object\n",
              "Product Price               object\n",
              "Product Url                 object\n",
              "Market                      object\n",
              "Product Description         object\n",
              "Product Currency            object\n",
              "Product Image Url           object\n",
              "Product Tags                object\n",
              "Product Contents            object\n",
              "Product Rating              object\n",
              "Product Reviews Count      float64\n",
              "Expected Category Count     object\n",
              "Expected Brand Count         int64\n",
              "dtype: object"
            ]
          },
          "metadata": {},
          "execution_count": 9
        }
      ]
    },
    {
      "cell_type": "code",
      "metadata": {
        "colab": {
          "base_uri": "https://localhost:8080/"
        },
        "id": "enjZhWWd85zj",
        "outputId": "93274fed-52d6-46c7-ddb6-98ef53c00beb"
      },
      "source": [
        "prd.info"
      ],
      "execution_count": 30,
      "outputs": [
        {
          "output_type": "execute_result",
          "data": {
            "text/plain": [
              "<bound method DataFrame.info of       Retailer  ... Expected Brand Count\n",
              "0    nykaa.com  ...                   82\n",
              "1    nykaa.com  ...                  431\n",
              "2    nykaa.com  ...                    0\n",
              "3    nykaa.com  ...                  149\n",
              "4    nykaa.com  ...                  436\n",
              "..         ...  ...                  ...\n",
              "620  nykaa.com  ...                    0\n",
              "621  nykaa.com  ...                   27\n",
              "622  nykaa.com  ...                    0\n",
              "623  nykaa.com  ...                    0\n",
              "624  nykaa.com  ...                    0\n",
              "\n",
              "[625 rows x 10 columns]>"
            ]
          },
          "metadata": {},
          "execution_count": 30
        }
      ]
    },
    {
      "cell_type": "code",
      "metadata": {
        "colab": {
          "base_uri": "https://localhost:8080/",
          "height": 576
        },
        "id": "LAr-GSbP9Hi-",
        "outputId": "63e98d96-8f24-4d05-a9ca-57dd88cebccc"
      },
      "source": [
        "prd.drop_duplicates()\n",
        "prd.head(5)"
      ],
      "execution_count": 36,
      "outputs": [
        {
          "output_type": "execute_result",
          "data": {
            "text/html": [
              "<div>\n",
              "<style scoped>\n",
              "    .dataframe tbody tr th:only-of-type {\n",
              "        vertical-align: middle;\n",
              "    }\n",
              "\n",
              "    .dataframe tbody tr th {\n",
              "        vertical-align: top;\n",
              "    }\n",
              "\n",
              "    .dataframe thead th {\n",
              "        text-align: right;\n",
              "    }\n",
              "</style>\n",
              "<table border=\"1\" class=\"dataframe\">\n",
              "  <thead>\n",
              "    <tr style=\"text-align: right;\">\n",
              "      <th></th>\n",
              "      <th>Retailer</th>\n",
              "      <th>Product Url</th>\n",
              "      <th>Market</th>\n",
              "      <th>Product Description</th>\n",
              "      <th>Product Image Url</th>\n",
              "      <th>Product Tags</th>\n",
              "      <th>Product Contents</th>\n",
              "      <th>Product Reviews Count</th>\n",
              "      <th>Expected Category Count</th>\n",
              "      <th>Expected Brand Count</th>\n",
              "    </tr>\n",
              "  </thead>\n",
              "  <tbody>\n",
              "    <tr>\n",
              "      <th>0</th>\n",
              "      <td>nykaa.com</td>\n",
              "      <td>https://www.nykaa.com/c/p/760922?skuId=760920</td>\n",
              "      <td>IN</td>\n",
              "      <td>Etude House Face Color Shading provides a shad...</td>\n",
              "      <td>https://images-static.nykaa.com/media/catalog/...</td>\n",
              "      <td>ETUDE HOUSE Face Color Shading - 02, Makeup, F...</td>\n",
              "      <td>NaN</td>\n",
              "      <td>4.0</td>\n",
              "      <td>153</td>\n",
              "      <td>82</td>\n",
              "    </tr>\n",
              "    <tr>\n",
              "      <th>1</th>\n",
              "      <td>nykaa.com</td>\n",
              "      <td>https://www.nykaa.com/c/p/565974?skuId=565973</td>\n",
              "      <td>IN</td>\n",
              "      <td>It's time to skip the snooze button and get up...</td>\n",
              "      <td>https://images-static.nykaa.com/media/catalog/...</td>\n",
              "      <td>L'Oreal Paris Glow Mon Amour Highlighting Drop...</td>\n",
              "      <td>G927637, Cyclopentasiloxane, Dimethicone, Isod...</td>\n",
              "      <td>147.0</td>\n",
              "      <td>431</td>\n",
              "      <td>431</td>\n",
              "    </tr>\n",
              "    <tr>\n",
              "      <th>2</th>\n",
              "      <td>nykaa.com</td>\n",
              "      <td>https://www.nykaa.com/c/p/31142?skuId=30050</td>\n",
              "      <td>IN</td>\n",
              "      <td>Note: The Body Shop products will be dispatche...</td>\n",
              "      <td>https://images-static.nykaa.com/media/catalog/...</td>\n",
              "      <td>The Body Shop All-In-One Face Base - 045 , Mak...</td>\n",
              "      <td>NaN</td>\n",
              "      <td>58.0</td>\n",
              "      <td>0</td>\n",
              "      <td>0</td>\n",
              "    </tr>\n",
              "    <tr>\n",
              "      <th>3</th>\n",
              "      <td>nykaa.com</td>\n",
              "      <td>https://www.nykaa.com/c/p/370883?skuId=370881</td>\n",
              "      <td>IN</td>\n",
              "      <td>Sunflower has always been admired for its beau...</td>\n",
              "      <td>https://images-static.nykaa.com/media/catalog/...</td>\n",
              "      <td>True Elements Sunflower Raw Seeds, Wellness, S...</td>\n",
              "      <td>Raw Sunflower Seeds</td>\n",
              "      <td>0.0</td>\n",
              "      <td>389</td>\n",
              "      <td>149</td>\n",
              "    </tr>\n",
              "    <tr>\n",
              "      <th>4</th>\n",
              "      <td>nykaa.com</td>\n",
              "      <td>https://www.nykaa.com/c/p/555315?skuId=555310</td>\n",
              "      <td>IN</td>\n",
              "      <td>It's no secret that a good lippie is a real mo...</td>\n",
              "      <td>https://images-static.nykaa.com/media/catalog/...</td>\n",
              "      <td>NykaaÂ Wonderpuff!Â LipÂ &amp;Â CheekÂ Cushion Lip...</td>\n",
              "      <td>NaN</td>\n",
              "      <td>934.0</td>\n",
              "      <td>80</td>\n",
              "      <td>436</td>\n",
              "    </tr>\n",
              "  </tbody>\n",
              "</table>\n",
              "</div>"
            ],
            "text/plain": [
              "    Retailer  ... Expected Brand Count\n",
              "0  nykaa.com  ...                   82\n",
              "1  nykaa.com  ...                  431\n",
              "2  nykaa.com  ...                    0\n",
              "3  nykaa.com  ...                  149\n",
              "4  nykaa.com  ...                  436\n",
              "\n",
              "[5 rows x 10 columns]"
            ]
          },
          "metadata": {},
          "execution_count": 36
        }
      ]
    },
    {
      "cell_type": "code",
      "metadata": {
        "colab": {
          "base_uri": "https://localhost:8080/"
        },
        "id": "O-LeL0d5GWNw",
        "outputId": "e2e784c4-25ab-4459-9965-e13121717a51"
      },
      "source": [
        "prd.dropna()\n",
        "prd.count()"
      ],
      "execution_count": 63,
      "outputs": [
        {
          "output_type": "execute_result",
          "data": {
            "text/plain": [
              "Product Id                 253\n",
              "Product Brand Code         253\n",
              "Retailer                   253\n",
              "Product Category           253\n",
              "Product Brand              253\n",
              "Product Name               253\n",
              "Product Price              253\n",
              "Product Url                253\n",
              "Market                     253\n",
              "Product Description        253\n",
              "Product Currency           253\n",
              "Product Image Url          253\n",
              "Product Tags               253\n",
              "Product Contents           253\n",
              "Product Rating             253\n",
              "Product Reviews Count      253\n",
              "Expected Category Count    253\n",
              "Expected Brand Count       253\n",
              "dtype: int64"
            ]
          },
          "metadata": {},
          "execution_count": 63
        }
      ]
    },
    {
      "cell_type": "code",
      "metadata": {
        "colab": {
          "base_uri": "https://localhost:8080/"
        },
        "id": "mp6JDVmm_T5I",
        "outputId": "53dff339-d90a-4f15-e581-7f25e25b7a5a"
      },
      "source": [
        "print(prd.isnull().sum())"
      ],
      "execution_count": 40,
      "outputs": [
        {
          "output_type": "stream",
          "text": [
            "Retailer                     0\n",
            "Product Url                 15\n",
            "Market                       0\n",
            "Product Description          0\n",
            "Product Image Url            0\n",
            "Product Tags                15\n",
            "Product Contents           300\n",
            "Product Reviews Count       62\n",
            "Expected Category Count      0\n",
            "Expected Brand Count         0\n",
            "dtype: int64\n"
          ],
          "name": "stdout"
        }
      ]
    },
    {
      "cell_type": "code",
      "metadata": {
        "colab": {
          "base_uri": "https://localhost:8080/",
          "height": 302
        },
        "id": "o8aUfAgYHgHx",
        "outputId": "e5fe4c7b-bb72-4dd1-f08d-04b8a374b814"
      },
      "source": [
        "sns.boxplot(x=prd['Product Reviews Count'])"
      ],
      "execution_count": 69,
      "outputs": [
        {
          "output_type": "execute_result",
          "data": {
            "text/plain": [
              "<matplotlib.axes._subplots.AxesSubplot at 0x7f8704776fd0>"
            ]
          },
          "metadata": {},
          "execution_count": 69
        },
        {
          "output_type": "display_data",
          "data": {
            "image/png": "[encoded data removed]",
            "text/plain": [
              "<Figure size 432x288 with 1 Axes>"
            ]
          },
          "metadata": {}
        }
      ]
    },
    {
      "cell_type": "code",
      "metadata": {
        "colab": {
          "base_uri": "https://localhost:8080/",
          "height": 289
        },
        "id": "gZWSDf2gJ1FV",
        "outputId": "3df8e2db-d547-4369-f0d1-86f9d727196c"
      },
      "source": [
        "sns.boxplot(z=prd['Product Price'])"
      ],
      "execution_count": 89,
      "outputs": [
        {
          "output_type": "execute_result",
          "data": {
            "text/plain": [
              "<matplotlib.axes._subplots.AxesSubplot at 0x7f86ffafead0>"
            ]
          },
          "metadata": {},
          "execution_count": 89
        },
        {
          "output_type": "display_data",
          "data": {
            "image/png": "[encoded data removed]",
            "text/plain": [
              "<Figure size 432x288 with 1 Axes>"
            ]
          },
          "metadata": {}
        }
      ]
    }
  ]
}