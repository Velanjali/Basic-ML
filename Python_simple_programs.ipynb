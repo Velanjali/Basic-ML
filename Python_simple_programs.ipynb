{
  "nbformat": 4,
  "nbformat_minor": 0,
  "metadata": {
    "colab": {
      "name": "Python simple programs.ipynb",
      "provenance": [],
      "authorship_tag": "ABX9TyNjLRZA5uaZMUY8dKf9FY4T",
      "include_colab_link": true
    },
    "kernelspec": {
      "name": "python3",
      "display_name": "Python 3"
    },
    "language_info": {
      "name": "python"
    }
  },
  "cells": [
    {
      "cell_type": "markdown",
      "metadata": {
        "id": "view-in-github",
        "colab_type": "text"
      },
      "source": [
        "<a href=\"https://colab.research.google.com/github/Velanjali/Basic-ML/blob/main/Python_simple_programs.ipynb\" target=\"_parent\"><img src=\"https://colab.research.google.com/assets/colab-badge.svg\" alt=\"Open In Colab\"/></a>"
      ]
    },
    {
      "cell_type": "markdown",
      "metadata": {
        "id": "KajBnL48CpLt"
      },
      "source": [
        "Python programs"
      ]
    },
    {
      "cell_type": "code",
      "metadata": {
        "colab": {
          "base_uri": "https://localhost:8080/"
        },
        "id": "6-wUk1CrCu-d",
        "outputId": "142de774-41f3-4bdf-92e6-05b564386d07"
      },
      "source": [
        "#Python program to print maximum of two numbers.\n",
        "#getting input from user\n",
        "a = 54\n",
        "b = 90\n",
        "#printing the maximum value\n",
        "if (a>b):\n",
        "  print(a)\n",
        "else:\n",
        "  print(b)"
      ],
      "execution_count": null,
      "outputs": [
        {
          "output_type": "stream",
          "text": [
            "90\n"
          ],
          "name": "stdout"
        }
      ]
    },
    {
      "cell_type": "code",
      "metadata": {
        "colab": {
          "base_uri": "https://localhost:8080/"
        },
        "id": "VpNG9dCKDlCL",
        "outputId": "81f42f32-40bc-4ad4-ee08-eacf8496d127"
      },
      "source": [
        "#Python program to display multiplication table.\n",
        "#getting input\n",
        "a = 5\n",
        "#printing the multiplication table\n",
        "for i in range(1,a+1):\n",
        "  print(a*i)"
      ],
      "execution_count": null,
      "outputs": [
        {
          "output_type": "stream",
          "text": [
            "5\n",
            "10\n",
            "15\n",
            "20\n",
            "25\n"
          ],
          "name": "stdout"
        }
      ]
    },
    {
      "cell_type": "code",
      "metadata": {
        "colab": {
          "base_uri": "https://localhost:8080/"
        },
        "id": "cliX0t8fFacJ",
        "outputId": "3f091caa-bc94-4017-f84d-26d3ca36ca32"
      },
      "source": [
        "#Python program to print sum of first 10 natural numbers.\n",
        "#getting input\n",
        "n = 6551\n",
        "sum = 0\n",
        "#printing the sum\n",
        "for i in range(1,n+1,1):\n",
        "  sum += i\n",
        "print(sum)"
      ],
      "execution_count": null,
      "outputs": [
        {
          "output_type": "stream",
          "text": [
            "21461076\n"
          ],
          "name": "stdout"
        }
      ]
    }
  ]
}